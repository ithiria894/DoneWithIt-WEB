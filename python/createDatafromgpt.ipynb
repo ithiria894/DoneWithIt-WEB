{
 "cells": [
  {
   "cell_type": "code",
   "execution_count": null,
   "metadata": {},
   "outputs": [],
   "source": [
    "\n",
    "Help me create training dataset for generating json from natural language.\n",
    "    You have to give me both the user input and the expected output.\n",
    "    For phone-based events like calls or Zoom meetings, \n",
    "    it defaults to a 5-minute advance reminder unless specified otherwise. \n",
    "    For out-of-house events, such as football games, swimming, class not specified online,  \n",
    "    or dentist appointments, or interviews not specified online, so on so forth, \n",
    "    it defaults to reminders at 1 hour in advance unless a different time is specified by the user.\n",
    "    All events will have endTime 1 hour after the startTime be default unless specified otherwise.\n",
    "    Auto input the description if there is supplied information or address in the user input.\n",
    "    ADDRESS, LOCATION, PLACE, VENUE, or DESTINATION OR SIMILAR WORDINGS will be used to identify the location.\n",
    "    Repeating can be None,daily, weekly, monthly.\n",
    "\n",
    "    userInput:\n",
    "    now the time is  2024-02-18T11:00 sunday\n",
    "    today 3pm i have to go to football, remind me 30min ago, i have to bring the ball.\n",
    "   the place is at football field near the park.\n",
    "\n",
    "    expectedOutput:\n",
    "    {\"title\":\"Go to football\",\"description\":\"Bring the ball\",\"address\":\"football field near the park\",\"startTime\":\"2024-02-18T15:00\",\"endTime\":\"2024-02-18T16:00\",\"repeating\":\"None\",\"alarm\":\"30\"}\n",
    "\n",
    "    \n",
    "    You give me 50 more user input and expected output in a variety of content,you mush include a random datetime in user input.\n",
    "    make sure to include ALL the possible scenarios.\n",
    "    give me in excel or csv format.\n",
    "    first row is the user input, second row is the expected output.\n",
    "    I will give you 5$ for this task.\n"
   ]
  },
  {
   "cell_type": "code",
   "execution_count": null,
   "metadata": {},
   "outputs": [],
   "source": []
  }
 ],
 "metadata": {
  "language_info": {
   "name": "python"
  }
 },
 "nbformat": 4,
 "nbformat_minor": 2
}
